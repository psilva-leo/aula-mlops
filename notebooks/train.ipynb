{
 "cells": [
  {
   "cell_type": "code",
   "id": "initial_id",
   "metadata": {
    "collapsed": true,
    "ExecuteTime": {
     "end_time": "2024-11-08T02:04:37.919316Z",
     "start_time": "2024-11-08T02:04:37.914570Z"
    }
   },
   "source": [
    "import pandas as pd\n",
    "import numpy as np\n",
    "from sklearn.model_selection import train_test_split\n",
    "from sklearn.preprocessing import StandardScaler, LabelEncoder\n",
    "from sklearn.pipeline import Pipeline\n",
    "from sklearn.impute import SimpleImputer\n",
    "from sklearn.linear_model import LinearRegression\n",
    "from sklearn.tree import DecisionTreeRegressor\n",
    "from sklearn.ensemble import RandomForestRegressor\n",
    "from sklearn.metrics import mean_squared_error, r2_score\n",
    "from sklearn.model_selection import cross_val_score\n",
    "import kagglehub\n",
    "import os"
   ],
   "outputs": [],
   "execution_count": 4
  },
  {
   "metadata": {},
   "cell_type": "markdown",
   "source": "## Load dataset",
   "id": "b4dc9817e86aa4e9"
  },
  {
   "metadata": {
    "ExecuteTime": {
     "end_time": "2024-11-08T02:04:19.658818Z",
     "start_time": "2024-11-08T02:04:19.075034Z"
    }
   },
   "cell_type": "code",
   "source": [
    "path = kagglehub.dataset_download(\"shashanknecrothapa/ames-housing-dataset\")\n",
    "\n",
    "print(\"Path to dataset files:\", path)"
   ],
   "id": "538317f36c7d84a2",
   "outputs": [
    {
     "name": "stdout",
     "output_type": "stream",
     "text": [
      "Path to dataset files: /Users/leo/.cache/kagglehub/datasets/shashanknecrothapa/ames-housing-dataset/versions/1\n"
     ]
    }
   ],
   "execution_count": 2
  },
  {
   "metadata": {
    "ExecuteTime": {
     "end_time": "2024-11-08T02:04:40.356Z",
     "start_time": "2024-11-08T02:04:40.321995Z"
    }
   },
   "cell_type": "code",
   "source": "df = pd.read_csv(os.path.join(path, \"AmesHousing.csv\"))",
   "id": "be39d118de9a50db",
   "outputs": [],
   "execution_count": 5
  },
  {
   "metadata": {},
   "cell_type": "markdown",
   "source": "## Feature Engineering",
   "id": "df1f5545743b4abe"
  },
  {
   "metadata": {
    "ExecuteTime": {
     "end_time": "2024-11-08T02:36:54.618441Z",
     "start_time": "2024-11-08T02:36:54.611556Z"
    }
   },
   "cell_type": "code",
   "source": [
    "columns_to_use = [\n",
    "    \"Overall Qual\",\n",
    "    \"Exter Qual\",\n",
    "    \"Bsmt Qual\",\n",
    "    \"Total Bsmt SF\",\n",
    "    \"1st Flr SF\",\n",
    "    \"Gr Liv Area\",\n",
    "    \"Kitchen Qual\",\n",
    "    \"Garage Cars\",\n",
    "    \"Garage Area\"\n",
    "]"
   ],
   "id": "f38bf38dca27eb5d",
   "outputs": [],
   "execution_count": 25
  },
  {
   "metadata": {
    "ExecuteTime": {
     "end_time": "2024-11-08T03:32:56.684657Z",
     "start_time": "2024-11-08T03:32:39.684180Z"
    }
   },
   "cell_type": "code",
   "source": [
    "X = df[columns_to_use]\n",
    "y = df['SalePrice']\n",
    "transformers = dict()\n",
    "\n",
    "X_train, X_test, y_train, y_test = train_test_split(X, y, test_size=0.2, random_state=42)\n",
    "\n",
    "\n",
    "numeric_features = X.select_dtypes(include=['int64', 'float64']).columns\n",
    "categorical_features = X.select_dtypes(include=['object']).columns\n",
    "\n",
    "\n",
    "numeric_transformer = Pipeline(steps=[\n",
    "    ('imputer', SimpleImputer(strategy='mean')), # Change for different strategies\n",
    "    ('scaler', StandardScaler())\n",
    "])\n",
    "\n",
    "\n",
    "categorical_transformer = Pipeline(steps=[\n",
    "    ('imputer', SimpleImputer(strategy='most_frequent')),  # Change for different strategies\n",
    "    ('labelencoder', LabelEncoder())\n",
    "])\n",
    "\n",
    "\n",
    "def apply_labelencoder(df, categorical_columns):\n",
    "    le = LabelEncoder()\n",
    "    for col in categorical_columns:\n",
    "        df[col] = le.fit_transform(df[col].astype(str))\n",
    "    return df\n",
    "\n",
    "def apply_labelencoder_fixed(df, categorical_columns):\n",
    "    \n",
    "    for col in categorical_columns:\n",
    "        if col in transformers:\n",
    "            print(f\"using cache for col: {col}\")\n",
    "            le = transformers[col]\n",
    "            df.loc[:,col] = le.transform(df[col].astype(str))\n",
    "        else:\n",
    "            print(f\"creating cache for col: {col}\")\n",
    "            le = LabelEncoder()\n",
    "            df.loc[:,col] = le.fit_transform(df[col].astype(str))\n",
    "            transformers[col] = le\n",
    "    return df\n",
    "\n",
    "# Can you spot the error?\n",
    "X_train = apply_labelencoder(X_train, categorical_features)\n",
    "X_test = apply_labelencoder(X_test, categorical_features)\n",
    "\n",
    "\n",
    "X_train[numeric_features] = numeric_transformer.fit_transform(X_train[numeric_features])\n",
    "X_test[numeric_features] = numeric_transformer.transform(X_test[numeric_features])\n",
    "\n"
   ],
   "id": "301c1833ce575b5",
   "outputs": [],
   "execution_count": 61
  },
  {
   "metadata": {
    "ExecuteTime": {
     "end_time": "2024-11-08T03:07:18.567380Z",
     "start_time": "2024-11-08T03:07:18.557462Z"
    }
   },
   "cell_type": "code",
   "source": "X_train.head()",
   "id": "b4e55521b3234e82",
   "outputs": [
    {
     "data": {
      "text/plain": [
       "      Overall Qual  Exter Qual  Bsmt Qual  Total Bsmt SF  1st Flr SF  \\\n",
       "381       0.673941           3          2       0.098487    0.558877   \n",
       "834      -0.766750           3          4      -0.077964    0.013468   \n",
       "1898     -1.487095           3          5      -2.399331    0.179688   \n",
       "678      -1.487095           3          5      -2.399331   -0.298194   \n",
       "700      -1.487095           1          1      -1.024386   -0.139766   \n",
       "\n",
       "      Gr Liv Area  Kitchen Qual  Garage Cars  Garage Area  \n",
       "381     -0.243522             3     0.339211     0.046722  \n",
       "834      1.254956             3     0.339211     0.324575  \n",
       "1898    -0.532910             3     0.339211    -0.033338  \n",
       "678     -0.897619             3     0.339211    -0.231132  \n",
       "700      0.412558             1    -2.341300    -2.209071  "
      ],
      "text/html": [
       "<div>\n",
       "<style scoped>\n",
       "    .dataframe tbody tr th:only-of-type {\n",
       "        vertical-align: middle;\n",
       "    }\n",
       "\n",
       "    .dataframe tbody tr th {\n",
       "        vertical-align: top;\n",
       "    }\n",
       "\n",
       "    .dataframe thead th {\n",
       "        text-align: right;\n",
       "    }\n",
       "</style>\n",
       "<table border=\"1\" class=\"dataframe\">\n",
       "  <thead>\n",
       "    <tr style=\"text-align: right;\">\n",
       "      <th></th>\n",
       "      <th>Overall Qual</th>\n",
       "      <th>Exter Qual</th>\n",
       "      <th>Bsmt Qual</th>\n",
       "      <th>Total Bsmt SF</th>\n",
       "      <th>1st Flr SF</th>\n",
       "      <th>Gr Liv Area</th>\n",
       "      <th>Kitchen Qual</th>\n",
       "      <th>Garage Cars</th>\n",
       "      <th>Garage Area</th>\n",
       "    </tr>\n",
       "  </thead>\n",
       "  <tbody>\n",
       "    <tr>\n",
       "      <th>381</th>\n",
       "      <td>0.673941</td>\n",
       "      <td>3</td>\n",
       "      <td>2</td>\n",
       "      <td>0.098487</td>\n",
       "      <td>0.558877</td>\n",
       "      <td>-0.243522</td>\n",
       "      <td>3</td>\n",
       "      <td>0.339211</td>\n",
       "      <td>0.046722</td>\n",
       "    </tr>\n",
       "    <tr>\n",
       "      <th>834</th>\n",
       "      <td>-0.766750</td>\n",
       "      <td>3</td>\n",
       "      <td>4</td>\n",
       "      <td>-0.077964</td>\n",
       "      <td>0.013468</td>\n",
       "      <td>1.254956</td>\n",
       "      <td>3</td>\n",
       "      <td>0.339211</td>\n",
       "      <td>0.324575</td>\n",
       "    </tr>\n",
       "    <tr>\n",
       "      <th>1898</th>\n",
       "      <td>-1.487095</td>\n",
       "      <td>3</td>\n",
       "      <td>5</td>\n",
       "      <td>-2.399331</td>\n",
       "      <td>0.179688</td>\n",
       "      <td>-0.532910</td>\n",
       "      <td>3</td>\n",
       "      <td>0.339211</td>\n",
       "      <td>-0.033338</td>\n",
       "    </tr>\n",
       "    <tr>\n",
       "      <th>678</th>\n",
       "      <td>-1.487095</td>\n",
       "      <td>3</td>\n",
       "      <td>5</td>\n",
       "      <td>-2.399331</td>\n",
       "      <td>-0.298194</td>\n",
       "      <td>-0.897619</td>\n",
       "      <td>3</td>\n",
       "      <td>0.339211</td>\n",
       "      <td>-0.231132</td>\n",
       "    </tr>\n",
       "    <tr>\n",
       "      <th>700</th>\n",
       "      <td>-1.487095</td>\n",
       "      <td>1</td>\n",
       "      <td>1</td>\n",
       "      <td>-1.024386</td>\n",
       "      <td>-0.139766</td>\n",
       "      <td>0.412558</td>\n",
       "      <td>1</td>\n",
       "      <td>-2.341300</td>\n",
       "      <td>-2.209071</td>\n",
       "    </tr>\n",
       "  </tbody>\n",
       "</table>\n",
       "</div>"
      ]
     },
     "execution_count": 56,
     "metadata": {},
     "output_type": "execute_result"
    }
   ],
   "execution_count": 56
  },
  {
   "metadata": {
    "ExecuteTime": {
     "end_time": "2024-11-08T03:07:19.305838Z",
     "start_time": "2024-11-08T03:07:19.294320Z"
    }
   },
   "cell_type": "code",
   "source": "X_test.head()",
   "id": "f91270040634cd34",
   "outputs": [
    {
     "data": {
      "text/plain": [
       "      Overall Qual  Exter Qual  Bsmt Qual  Total Bsmt SF  1st Flr SF  \\\n",
       "1357      1.394286           3          3      -1.051884   -0.835812   \n",
       "2367     -0.046404           3          3      -1.267293   -1.716258   \n",
       "2822      0.673941           2          2      -0.575237   -0.905936   \n",
       "2126     -1.487095           3          2      -0.130671   -0.428054   \n",
       "1544     -0.046404           3          3      -0.350662   -0.612454   \n",
       "\n",
       "      Gr Liv Area  Kitchen Qual  Garage Cars  Garage Area  \n",
       "1357     0.343184             2    -1.001045    -1.135333  \n",
       "2367    -0.917440             4    -1.001045    -0.965795  \n",
       "2822     0.458146             2     0.339211     0.691907  \n",
       "2126    -0.996725             4    -2.341300    -2.209071  \n",
       "1544    -1.137455             4    -1.001045    -1.290742  "
      ],
      "text/html": [
       "<div>\n",
       "<style scoped>\n",
       "    .dataframe tbody tr th:only-of-type {\n",
       "        vertical-align: middle;\n",
       "    }\n",
       "\n",
       "    .dataframe tbody tr th {\n",
       "        vertical-align: top;\n",
       "    }\n",
       "\n",
       "    .dataframe thead th {\n",
       "        text-align: right;\n",
       "    }\n",
       "</style>\n",
       "<table border=\"1\" class=\"dataframe\">\n",
       "  <thead>\n",
       "    <tr style=\"text-align: right;\">\n",
       "      <th></th>\n",
       "      <th>Overall Qual</th>\n",
       "      <th>Exter Qual</th>\n",
       "      <th>Bsmt Qual</th>\n",
       "      <th>Total Bsmt SF</th>\n",
       "      <th>1st Flr SF</th>\n",
       "      <th>Gr Liv Area</th>\n",
       "      <th>Kitchen Qual</th>\n",
       "      <th>Garage Cars</th>\n",
       "      <th>Garage Area</th>\n",
       "    </tr>\n",
       "  </thead>\n",
       "  <tbody>\n",
       "    <tr>\n",
       "      <th>1357</th>\n",
       "      <td>1.394286</td>\n",
       "      <td>3</td>\n",
       "      <td>3</td>\n",
       "      <td>-1.051884</td>\n",
       "      <td>-0.835812</td>\n",
       "      <td>0.343184</td>\n",
       "      <td>2</td>\n",
       "      <td>-1.001045</td>\n",
       "      <td>-1.135333</td>\n",
       "    </tr>\n",
       "    <tr>\n",
       "      <th>2367</th>\n",
       "      <td>-0.046404</td>\n",
       "      <td>3</td>\n",
       "      <td>3</td>\n",
       "      <td>-1.267293</td>\n",
       "      <td>-1.716258</td>\n",
       "      <td>-0.917440</td>\n",
       "      <td>4</td>\n",
       "      <td>-1.001045</td>\n",
       "      <td>-0.965795</td>\n",
       "    </tr>\n",
       "    <tr>\n",
       "      <th>2822</th>\n",
       "      <td>0.673941</td>\n",
       "      <td>2</td>\n",
       "      <td>2</td>\n",
       "      <td>-0.575237</td>\n",
       "      <td>-0.905936</td>\n",
       "      <td>0.458146</td>\n",
       "      <td>2</td>\n",
       "      <td>0.339211</td>\n",
       "      <td>0.691907</td>\n",
       "    </tr>\n",
       "    <tr>\n",
       "      <th>2126</th>\n",
       "      <td>-1.487095</td>\n",
       "      <td>3</td>\n",
       "      <td>2</td>\n",
       "      <td>-0.130671</td>\n",
       "      <td>-0.428054</td>\n",
       "      <td>-0.996725</td>\n",
       "      <td>4</td>\n",
       "      <td>-2.341300</td>\n",
       "      <td>-2.209071</td>\n",
       "    </tr>\n",
       "    <tr>\n",
       "      <th>1544</th>\n",
       "      <td>-0.046404</td>\n",
       "      <td>3</td>\n",
       "      <td>3</td>\n",
       "      <td>-0.350662</td>\n",
       "      <td>-0.612454</td>\n",
       "      <td>-1.137455</td>\n",
       "      <td>4</td>\n",
       "      <td>-1.001045</td>\n",
       "      <td>-1.290742</td>\n",
       "    </tr>\n",
       "  </tbody>\n",
       "</table>\n",
       "</div>"
      ]
     },
     "execution_count": 57,
     "metadata": {},
     "output_type": "execute_result"
    }
   ],
   "execution_count": 57
  },
  {
   "metadata": {
    "ExecuteTime": {
     "end_time": "2024-11-08T03:07:30.555288Z",
     "start_time": "2024-11-08T03:07:27.698753Z"
    }
   },
   "cell_type": "code",
   "source": [
    "models = {\n",
    "    'Linear Regression': LinearRegression(),\n",
    "    'Decision Tree': DecisionTreeRegressor(random_state=42),\n",
    "    'Random Forest': RandomForestRegressor(n_estimators=100, random_state=42)\n",
    "}\n",
    "\n",
    "# Train and evaluate each model\n",
    "for name, model in models.items():\n",
    "    # Fit the model\n",
    "    model.fit(X_train, y_train)\n",
    "    \n",
    "    # Predict on the test set\n",
    "    y_pred = model.predict(X_test)\n",
    "    \n",
    "    # Calculate evaluation metrics\n",
    "    rmse = np.sqrt(mean_squared_error(y_test, y_pred))\n",
    "    r2 = r2_score(y_test, y_pred)\n",
    "    \n",
    "    print(f\"{name} Results:\")\n",
    "    print(f\"  RMSE: {rmse:.4f}\")\n",
    "    print(f\"  R²: {r2:.4f}\")\n",
    "    print(\"-\" * 50)\n",
    "    \n",
    "    # Cross-validation score\n",
    "    cv_score = cross_val_score(model, X_train, y_train, cv=5, scoring='r2')\n",
    "    final_score = cv_score.mean()\n",
    "    print(f\"  Cross-Validation MSE (5-fold): {final_score:.4f}\")\n",
    "    print(\"=\" * 50)\n"
   ],
   "id": "1ea660da2c7c7ab3",
   "outputs": [
    {
     "name": "stdout",
     "output_type": "stream",
     "text": [
      "Linear Regression Results:\n",
      "  RMSE: 36604.4655\n",
      "  R²: 0.8329\n",
      "--------------------------------------------------\n",
      "  Cross-Validation MSE (5-fold): 1201208803.0700\n",
      "==================================================\n",
      "Decision Tree Results:\n",
      "  RMSE: 42760.4585\n",
      "  R²: 0.7719\n",
      "--------------------------------------------------\n",
      "  Cross-Validation MSE (5-fold): 1417568023.8754\n",
      "==================================================\n",
      "Random Forest Results:\n",
      "  RMSE: 33711.4491\n",
      "  R²: 0.8583\n",
      "--------------------------------------------------\n",
      "  Cross-Validation MSE (5-fold): 903171246.1877\n",
      "==================================================\n"
     ]
    }
   ],
   "execution_count": 58
  },
  {
   "metadata": {},
   "cell_type": "code",
   "outputs": [],
   "execution_count": null,
   "source": "",
   "id": "eac98d01360e5fb4"
  }
 ],
 "metadata": {
  "kernelspec": {
   "display_name": "Python 3",
   "language": "python",
   "name": "python3"
  },
  "language_info": {
   "codemirror_mode": {
    "name": "ipython",
    "version": 2
   },
   "file_extension": ".py",
   "mimetype": "text/x-python",
   "name": "python",
   "nbconvert_exporter": "python",
   "pygments_lexer": "ipython2",
   "version": "2.7.6"
  }
 },
 "nbformat": 4,
 "nbformat_minor": 5
}
